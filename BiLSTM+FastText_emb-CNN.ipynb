{
 "cells": [
  {
   "cell_type": "markdown",
   "metadata": {},
   "source": [
    "    В данном ноутбуке исследуются возможности гибридной модели с использованием эмбеддингов FasttText. Эмбеддинги были получены с BPE и в сравнении со стандартным заполнением layers.Embedding прироста в качестве не было обнаружено."
   ]
  },
  {
   "cell_type": "markdown",
   "metadata": {},
   "source": [
    "`(train 0.5, val 0.47, test 0.48)`\n",
    "`(эпох 100, батч 200)`"
   ]
  },
  {
   "cell_type": "markdown",
   "metadata": {},
   "source": [
    "### Libraries"
   ]
  },
  {
   "cell_type": "code",
   "execution_count": 1,
   "metadata": {},
   "outputs": [],
   "source": [
    "%load_ext autoreload\n",
    "%autoreload 2"
   ]
  },
  {
   "cell_type": "code",
   "execution_count": 2,
   "metadata": {},
   "outputs": [],
   "source": [
    "import warnings\n",
    "warnings.filterwarnings('ignore')\n",
    "warnings.simplefilter('ignore')\n",
    "warnings.filterwarnings(\"ignore\", category=UserWarning, module=\"torch.nn.functional\")\n",
    "\n",
    "def warn(*args, **kwargs):\n",
    "    pass\n",
    "import warnings\n",
    "warnings.warn = warn"
   ]
  },
  {
   "cell_type": "code",
   "execution_count": 3,
   "metadata": {},
   "outputs": [
    {
     "name": "stderr",
     "output_type": "stream",
     "text": [
      "Using TensorFlow backend.\n"
     ]
    }
   ],
   "source": [
    "import os\n",
    "import sys\n",
    "\n",
    "import random\n",
    "random.seed(42)\n",
    "\n",
    "os.environ[\"CUDA_VISIBLE_DEVICES\"]=\"0\"\n",
    "curruser = os.environ.get('USER')\n",
    "sys.path.insert(0, './src/')\n",
    "\n",
    "import re\n",
    "import pandas as pd\n",
    "import numpy as np\n",
    "import joblib\n",
    "import csv\n",
    "from keras.preprocessing import sequence\n",
    "\n",
    "sys.path.append('./src')\n",
    "from PreprocInput import preproc_\n",
    "\n",
    "import bpe\n",
    "from tqdm import tqdm_notebook\n",
    "\n",
    "from keras import backend as K\n",
    "from keras.models import Sequential, Model, load_model\n",
    "from keras.layers import Dense, Dropout, Activation, Flatten, BatchNormalization, Input\n",
    "from keras.layers import LSTM, Bidirectional, Conv1D, MaxPool1D, Embedding, Concatenate\n",
    "from keras.callbacks import EarlyStopping, ModelCheckpoint, ReduceLROnPlateau\n",
    "from keras.utils import to_categorical, plot_model\n",
    "from keras.optimizers import Adam\n",
    "\n",
    "from gensim.models.fasttext import FastText as FT_gensim\n",
    "from gensim.corpora import Dictionary\n",
    "from gensim import corpora\n",
    "from gensim.models import TfidfModel, KeyedVectors\n",
    "from gensim.test.utils import datapath\n",
    "\n",
    "import tensorflow as tf\n",
    "\n",
    "from sklearn.metrics import confusion_matrix, classification_report\n",
    "from sklearn.model_selection import train_test_split\n",
    "\n",
    "from pylab import rcParams\n",
    "from matplotlib import pyplot as plt\n",
    "import seaborn as sns\n",
    "%matplotlib inline\n",
    "\n",
    "sns.set(style='whitegrid', palette='muted', font_scale=1.5)\n",
    "rcParams['figure.figsize'] = 12, 5"
   ]
  },
  {
   "cell_type": "markdown",
   "metadata": {},
   "source": [
    "### Set GPU"
   ]
  },
  {
   "cell_type": "code",
   "execution_count": 4,
   "metadata": {},
   "outputs": [],
   "source": [
    "with K.tf.device('/GPU:0'):\n",
    "    config = tf.compat.v1.ConfigProto() \n",
    "    config.gpu_options.per_process_gpu_memory_fraction = 0.5\n",
    "    session = tf.compat.v1.Session(config=config)\n",
    "    K.set_session(session)"
   ]
  },
  {
   "cell_type": "markdown",
   "metadata": {},
   "source": [
    "### Secondary functions"
   ]
  },
  {
   "cell_type": "code",
   "execution_count": 5,
   "metadata": {},
   "outputs": [],
   "source": [
    "def plot_metrics(history):\n",
    "    plt.plot(history['acc'])\n",
    "    plt.plot(history['val_acc'])\n",
    "    plt.title('model accuracy')\n",
    "    plt.ylabel('accuracy')\n",
    "    plt.xlabel('epoch')\n",
    "    plt.legend(['train', 'test'], loc='upper left')\n",
    "    \n",
    "    plt.figure()\n",
    "    plt.plot(history['loss'])\n",
    "    plt.plot(history['val_loss'])\n",
    "    plt.title('model loss')\n",
    "    plt.ylabel('loss')\n",
    "    plt.xlabel('epoch')\n",
    "    plt.legend(['train', 'test'], loc='upper left')\n",
    "    \n",
    "    \n",
    "def confusion_matrix_heatmap(y_true, y_pred):\n",
    "    '''\n",
    "    Построение Confusion matrix (матрицы ошибок)\n",
    "\n",
    "    Parameters\n",
    "    ----------\n",
    "    y_test: pandas.Series, numpy.array\n",
    "        Целевая для обучающего набора\n",
    "    y_pred: pandas.Series, numpy.array\n",
    "        Значения целевой переменной, предсказанные классификатором\n",
    "    '''\n",
    "    rcParams['figure.figsize'] = 6, 4\n",
    "    sns.heatmap(confusion_matrix(y_true, y_pred), annot=True, fmt='d', cmap='Greens')\n",
    "    plt.ylabel('True label')\n",
    "    plt.xlabel('Predicted label')\n",
    "    plt.show()    "
   ]
  },
  {
   "cell_type": "markdown",
   "metadata": {},
   "source": [
    "# Load dataset and preproc"
   ]
  },
  {
   "cell_type": "code",
   "execution_count": 6,
   "metadata": {
    "scrolled": true
   },
   "outputs": [
    {
     "data": {
      "text/html": [
       "<div>\n",
       "<style scoped>\n",
       "    .dataframe tbody tr th:only-of-type {\n",
       "        vertical-align: middle;\n",
       "    }\n",
       "\n",
       "    .dataframe tbody tr th {\n",
       "        vertical-align: top;\n",
       "    }\n",
       "\n",
       "    .dataframe thead th {\n",
       "        text-align: right;\n",
       "    }\n",
       "</style>\n",
       "<table border=\"1\" class=\"dataframe\">\n",
       "  <thead>\n",
       "    <tr style=\"text-align: right;\">\n",
       "      <th></th>\n",
       "      <th>seq</th>\n",
       "      <th>label</th>\n",
       "    </tr>\n",
       "  </thead>\n",
       "  <tbody>\n",
       "    <tr>\n",
       "      <td>0</td>\n",
       "      <td>ACGGCTGGAGCCCATGTTCAGCATGAAAAC</td>\n",
       "      <td>A</td>\n",
       "    </tr>\n",
       "    <tr>\n",
       "      <td>1</td>\n",
       "      <td>TAAATTTCTGGATGGCAATGAAATGACATT</td>\n",
       "      <td>A</td>\n",
       "    </tr>\n",
       "    <tr>\n",
       "      <td>2</td>\n",
       "      <td>TCCACTTGGCAGCCAAATATGGCCAGACAA</td>\n",
       "      <td>A</td>\n",
       "    </tr>\n",
       "    <tr>\n",
       "      <td>3</td>\n",
       "      <td>CGGAGGAGAGCACCGAGCCCCTGAGTGAGG</td>\n",
       "      <td>A</td>\n",
       "    </tr>\n",
       "    <tr>\n",
       "      <td>4</td>\n",
       "      <td>GGACCACATTTGGGGAGCTTGCCATTTTAT</td>\n",
       "      <td>A</td>\n",
       "    </tr>\n",
       "  </tbody>\n",
       "</table>\n",
       "</div>"
      ],
      "text/plain": [
       "                              seq label\n",
       "0  ACGGCTGGAGCCCATGTTCAGCATGAAAAC     A\n",
       "1  TAAATTTCTGGATGGCAATGAAATGACATT     A\n",
       "2  TCCACTTGGCAGCCAAATATGGCCAGACAA     A\n",
       "3  CGGAGGAGAGCACCGAGCCCCTGAGTGAGG     A\n",
       "4  GGACCACATTTGGGGAGCTTGCCATTTTAT     A"
      ]
     },
     "execution_count": 6,
     "metadata": {},
     "output_type": "execute_result"
    }
   ],
   "source": [
    "data = pd.read_csv('./data/LeftWrap_5to30.csv', sep=';')\n",
    "data.head(5)"
   ]
  },
  {
   "cell_type": "markdown",
   "metadata": {},
   "source": [
    "### Prepare 1-st Input: Tensor with Tokens' Id to be passed on Embed Layer"
   ]
  },
  {
   "cell_type": "code",
   "execution_count": 7,
   "metadata": {},
   "outputs": [],
   "source": [
    "bpe = bpe.Encoder.load('./same_/bpe_tokenizer_v2.h5')"
   ]
  },
  {
   "cell_type": "code",
   "execution_count": 8,
   "metadata": {
    "scrolled": true
   },
   "outputs": [
    {
     "data": {
      "application/vnd.jupyter.widget-view+json": {
       "model_id": "954e391a75c64531a44bd238dd70acf6",
       "version_major": 2,
       "version_minor": 0
      },
      "text/plain": [
       "HBox(children=(IntProgress(value=0, max=3351352), HTML(value='')))"
      ]
     },
     "metadata": {},
     "output_type": "display_data"
    },
    {
     "name": "stdout",
     "output_type": "stream",
     "text": [
      "\n"
     ]
    }
   ],
   "source": [
    "def tokens_to_ids(encoder, x):\n",
    "    x_toks = []\n",
    "    for i in tqdm_notebook(range(len(x)), total=len(x)):\n",
    "        encoder.tokenize(x[i])\n",
    "        x_toks.append(next(encoder.transform([x[i]]))[1:-1])\n",
    "        \n",
    "    max_len = max(map(len, x_toks))\n",
    "    X_arr = np.zeros((len(x_toks), max_len), dtype='int32')\n",
    "    for i, s in enumerate(x_toks):\n",
    "        X_arr[i, 0:len(s)] = s\n",
    "        \n",
    "    return X_arr\n",
    "\n",
    "X_toks = tokens_to_ids(bpe, data.seq.values)"
   ]
  },
  {
   "cell_type": "markdown",
   "metadata": {},
   "source": [
    "### Prepare 2-nd Input: Create one-hot encoded vectors using the `char_indices` map"
   ]
  },
  {
   "cell_type": "code",
   "execution_count": 9,
   "metadata": {
    "scrolled": true
   },
   "outputs": [],
   "source": [
    "MAXCHARSLEN = max(map(len, data.seq.values))\n",
    "MAXSEQLEN = max(map(len, X_toks))\n",
    "\n",
    "chars = sorted(list(set(data.seq.values[0])))\n",
    "char_indices = dict((c, i) for i, c in enumerate(chars))\n",
    "indices_char = dict((i, c) for i, c in enumerate(chars))"
   ]
  },
  {
   "cell_type": "code",
   "execution_count": 10,
   "metadata": {},
   "outputs": [
    {
     "data": {
      "text/plain": [
       "((3351352, 30, 4), (3351352, 4))"
      ]
     },
     "execution_count": 10,
     "metadata": {},
     "output_type": "execute_result"
    }
   ],
   "source": [
    "X, y = preproc_.get_input_array(data.seq.values, data.label.values, MAXCHARSLEN, chars, char_indices)\n",
    "X.shape, y.shape"
   ]
  },
  {
   "cell_type": "code",
   "execution_count": 11,
   "metadata": {},
   "outputs": [],
   "source": [
    "X_toks_train, X_toks_test, y_train, y_test = train_test_split(X_toks, y, \n",
    "                                                              random_state=42, shuffle=True, test_size=0.1)\n",
    "X_train, X_test, _, _ = train_test_split(X, y, random_state=42, shuffle=True, test_size=0.1)"
   ]
  },
  {
   "cell_type": "markdown",
   "metadata": {},
   "source": [
    "## Gensim FastText"
   ]
  },
  {
   "cell_type": "markdown",
   "metadata": {},
   "source": [
    "`(train dasttext)`"
   ]
  },
  {
   "cell_type": "raw",
   "metadata": {},
   "source": [
    "def GensimCorporaIter(pathtofile, encoder):\n",
    "    # encoder = sp.EncodeAsPieces / bpe.tokenize\n",
    "    path = datapath(pathtofile)  # absolute path to corpus\n",
    "    with open(path, 'r', encoding='utf8', errors = 'ignore') as fin:\n",
    "        for line in fin:\n",
    "            line = line.rstrip('\\n')\n",
    "            yield list(encoder(line))[1:-1]"
   ]
  },
  {
   "cell_type": "raw",
   "metadata": {},
   "source": [
    "dnaSegPathPost = os.path.join(os.getcwd(),'data/mart_export.txt')"
   ]
  },
  {
   "cell_type": "raw",
   "metadata": {},
   "source": [
    "model_gensim = FT_gensim(size=300, window=5, min_count=1, sg=1, negative=15, \n",
    "                         min_n=1, max_n=6, word_ngrams=1, workers=10)\n",
    "model_gensim.build_vocab(sentences = GensimCorporaIter(dnaSegPathPost, bpe.tokenize))\n",
    "model_gensim.train(sentences=GensimCorporaIter(dnaSegPathPost, bpe.tokenize), \n",
    "                   total_examples=model_gensim.corpus_count, epochs=20)"
   ]
  },
  {
   "cell_type": "raw",
   "metadata": {},
   "source": [
    "fw2vec = './same_/bpe_ft_500.vec'\n",
    "model_gensim.wv.save_word2vec_format(fw2vec)\n",
    "joblib.dump(model_gensim, './same_/ft_model_bpe.pkl', compress=('gzip',9))"
   ]
  },
  {
   "cell_type": "markdown",
   "metadata": {},
   "source": [
    "`(load fasttext)`"
   ]
  },
  {
   "cell_type": "code",
   "execution_count": 12,
   "metadata": {},
   "outputs": [],
   "source": [
    "fw2vec = './same_/bpe_ft_500.vec'\n",
    "w2vec = KeyedVectors.load_word2vec_format(fw2vec)"
   ]
  },
  {
   "cell_type": "code",
   "execution_count": 13,
   "metadata": {
    "scrolled": true
   },
   "outputs": [
    {
     "data": {
      "text/plain": [
       "[('aa', 0.5441487431526184),\n",
       " ('aaca', 0.5310763716697693),\n",
       " ('aga', 0.5125366449356079),\n",
       " ('aatg', 0.5102294683456421),\n",
       " ('ata', 0.508975625038147),\n",
       " ('agta', 0.5002345442771912),\n",
       " ('atga', 0.49688899517059326),\n",
       " ('aac', 0.4963187277317047),\n",
       " ('acaa', 0.4957149624824524),\n",
       " ('aaag', 0.4953441023826599)]"
      ]
     },
     "execution_count": 13,
     "metadata": {},
     "output_type": "execute_result"
    }
   ],
   "source": [
    "w2vec.wv.similar_by_word('a')"
   ]
  },
  {
   "cell_type": "code",
   "execution_count": 14,
   "metadata": {},
   "outputs": [],
   "source": [
    "vocab_bpe = bpe.bpe_vocab\n",
    "vocab_bpe.update(bpe.word_vocab)"
   ]
  },
  {
   "cell_type": "markdown",
   "metadata": {},
   "source": [
    "## Generate Embeding Matrix: Get FT Embeddings without TFIDF weighting"
   ]
  },
  {
   "cell_type": "code",
   "execution_count": 15,
   "metadata": {},
   "outputs": [],
   "source": [
    "embedding_matrix = np.zeros((bpe.vocab_size+1, w2vec.vector_size))\n",
    "for i, vec in enumerate(w2vec.wv.vectors):\n",
    "    embedding_matrix[vocab_bpe[w2vec.index2word[i]]] = vec"
   ]
  },
  {
   "cell_type": "code",
   "execution_count": 16,
   "metadata": {},
   "outputs": [
    {
     "data": {
      "text/plain": [
       "(501, 300)"
      ]
     },
     "execution_count": 16,
     "metadata": {},
     "output_type": "execute_result"
    }
   ],
   "source": [
    "embedding_matrix.shape"
   ]
  },
  {
   "cell_type": "raw",
   "metadata": {},
   "source": [
    "## Generate Embedding Matrix "
   ]
  },
  {
   "cell_type": "raw",
   "metadata": {},
   "source": [
    "`(Token's Id, Weighted Vector)`"
   ]
  },
  {
   "cell_type": "raw",
   "metadata": {},
   "source": [
    "import gzip\n",
    "from collections import OrderedDict\n",
    "import json\n",
    "\n",
    "def weight_words2vec(pathtofile, pathtoexport, sp, fasttext_model):\n",
    "    corpora = []\n",
    "    result = []  \n",
    "    print('Tokenize sequense corpora from file-->')\n",
    "    path = datapath(pathtofile)  # absolute path to corpus\n",
    "    with open(path, 'r', encoding='utf8', errors = 'ignore') as fin:\n",
    "        for line in tqdm_notebook(fin):\n",
    "            line = line.rstrip('\\n')\n",
    "            corpora.append(list(sp.EncodeAsPieces(line))[1:])\n",
    "    \n",
    "    maxlen = max(map(len, corpora))\n",
    "    \n",
    "    print(\"max tokens len: {}\".format(maxlen))\n",
    "    \n",
    "    print(\"Build BOW and calculate TFIDF...\")\n",
    "    dct = Dictionary(corpora)\n",
    "    bow = [dct.doc2bow(line) for line in corpora]\n",
    "    modelTfIdf = TfidfModel(bow, smartirs='ntc')\n",
    "    dic = [(k,v) for k,v in dct.items()]\n",
    "    rev_dct = dict(map(reversed, dic))\n",
    "    \n",
    "    del dct, dic\n",
    "    \n",
    "    print(\"Calculate Weighted Vector for each token of interest-->\")\n",
    "    for i,line in tqdm_notebook(enumerate(corpora), total=len(corpora)):\n",
    "        if len(line)!=0:\n",
    "            embed = []\n",
    "            weights = dict(modelTfIdf[bow[i]])\n",
    "            embed = [fasttext_model[word]*weights[rev_dct[word]] for word in line]\n",
    "#             mean_vec = np.array(embed).mean(axis=0)\n",
    "            result.append(embed)\n",
    "        else:\n",
    "            pass\n",
    "#             mean_vec = np.zeros((model_gensim.vector_size,))\n",
    "\n",
    "#         if not np.mod(len(result), 10000) and len(result)!=0:\n",
    "#             with gzip.open(pathtoexport, 'at') as fz:\n",
    "#             with open(str(pathtoexport),'a', encoding='utf8') as fz: \n",
    "#                 writer = csv.writer(fz, delimiter=';', quotechar='\"', lineterminator='\\n')\n",
    "#                 file_is_empty = os.stat(str(pathtoexport)).st_size == 0\n",
    "#                 if file_is_empty:\n",
    "#                     writer.writerow(['idx','vec'])\n",
    "#                 for k,val in result.items():\n",
    "#                     strarr = ['{0:.8f}'.format(ele) for ele in val]\n",
    "#                     fz.write('{}: '.format(k)+' '.join(strarr)+'\\n')\n",
    "#                     writer.writerow([k,v])\n",
    "\n",
    "#             result = OrderedDict()\n",
    "    \n",
    "    return maxlen, result"
   ]
  },
  {
   "cell_type": "raw",
   "metadata": {},
   "source": [
    "## Calculate Weighted Embeddings ( This aproach is suitable only for the case of ad-hoc preparation of X matrix before feeding one on the input of Keras model)"
   ]
  },
  {
   "cell_type": "raw",
   "metadata": {},
   "source": [
    "dnaSegPathTrain = os.path.join(os.getcwd(),'data/dnaseg/csv/DnaSeg4TrainwLabelsSampled_wRandL.csv')\n",
    "pathtoexport    = os.path.join(os.getcwd(),'models/embed/bpe_embeddings.json')"
   ]
  },
  {
   "cell_type": "raw",
   "metadata": {
    "scrolled": false
   },
   "source": [
    "model_gensim = joblib.load('./models/fasttext/ft_model.pkl')"
   ]
  },
  {
   "cell_type": "raw",
   "metadata": {
    "scrolled": false
   },
   "source": [
    "maxlen, result = weight_words2vec(dnaSegPathTrain, pathtoexport, sp, model_gensim)"
   ]
  },
  {
   "cell_type": "raw",
   "metadata": {},
   "source": [
    "word_seq_pad = sequence.pad_sequences(result, maxlen = maxlen, padding='post')"
   ]
  },
  {
   "cell_type": "markdown",
   "metadata": {},
   "source": [
    "# Build and train model"
   ]
  },
  {
   "cell_type": "code",
   "execution_count": 17,
   "metadata": {},
   "outputs": [],
   "source": [
    "def get_model(vocab_size, n_classes, seq_len_emb, seq_len_chars):\n",
    "    \n",
    "    inp = Input(shape =(seq_len_emb,), name='Input1')\n",
    "    emb = Embedding(vocab_size, 300, name='BPE_emb')(inp)\n",
    "    x = Bidirectional(LSTM(units=128, dropout=0.2, recurrent_dropout=0.2), name='BiLSTM_0')(emb)\n",
    "    ###\n",
    "    inp2 = Input(shape = (seq_len_chars, n_classes), name='Input2')\n",
    "    y = Conv1D(kernel_size=3,\n",
    "                filters=128,\n",
    "                padding='valid',\n",
    "                activation=\"relu\",\n",
    "                name='Conv1d_0')(inp2)\n",
    "    y = MaxPool1D(pool_size=2, strides=2, name='MaxPool1d-1')(y)\n",
    "    y = BatchNormalization(name='BatchNorm-1')(y)\n",
    "        \n",
    "    y = Conv1D(kernel_size=3,\n",
    "                filters=128,\n",
    "                padding='valid',\n",
    "                activation=\"relu\",\n",
    "                name='Conv1d_1')(inp2)\n",
    "    y = MaxPool1D(pool_size=2, strides=2, name='MaxPool1d-1')(y)\n",
    "    y = BatchNormalization(name='BatchNorm-1')(y)    \n",
    "    y = Dropout(0.2, name='Dropout_0.2')(y)\n",
    "    y = Flatten(name='Flatten')(y)\n",
    "    ###\n",
    "    comb = Concatenate(name='Concat')([x,y])\n",
    "\n",
    "    z = Dense(128, activation='tanh', name='Dense_1024_0')(comb)  \n",
    "    z = Dense(n_classes, activation='softmax', name='Dense_NCLASS')(z)\n",
    "    model = Model(inputs=[inp, inp2], outputs=z)\n",
    "    \n",
    "    model.summary()\n",
    "    \n",
    "    return model"
   ]
  },
  {
   "cell_type": "code",
   "execution_count": 18,
   "metadata": {
    "scrolled": false
   },
   "outputs": [
    {
     "name": "stdout",
     "output_type": "stream",
     "text": [
      "WARNING:tensorflow:From /usr/local/lib/python3.6/dist-packages/tensorflow/python/framework/op_def_library.py:263: colocate_with (from tensorflow.python.framework.ops) is deprecated and will be removed in a future version.\n",
      "Instructions for updating:\n",
      "Colocations handled automatically by placer.\n",
      "WARNING:tensorflow:From /usr/local/lib/python3.6/dist-packages/keras/backend/tensorflow_backend.py:3445: calling dropout (from tensorflow.python.ops.nn_ops) with keep_prob is deprecated and will be removed in a future version.\n",
      "Instructions for updating:\n",
      "Please use `rate` instead of `keep_prob`. Rate should be set to `rate = 1 - keep_prob`.\n",
      "__________________________________________________________________________________________________\n",
      "Layer (type)                    Output Shape         Param #     Connected to                     \n",
      "==================================================================================================\n",
      "Input2 (InputLayer)             (None, 30, 4)        0                                            \n",
      "__________________________________________________________________________________________________\n",
      "Conv1d_1 (Conv1D)               (None, 28, 128)      1664        Input2[0][0]                     \n",
      "__________________________________________________________________________________________________\n",
      "MaxPool1d-1 (MaxPooling1D)      (None, 14, 128)      0           Conv1d_1[0][0]                   \n",
      "__________________________________________________________________________________________________\n",
      "Input1 (InputLayer)             (None, 10)           0                                            \n",
      "__________________________________________________________________________________________________\n",
      "BatchNorm-1 (BatchNormalization (None, 14, 128)      512         MaxPool1d-1[0][0]                \n",
      "__________________________________________________________________________________________________\n",
      "BPE_emb (Embedding)             (None, 10, 300)      150300      Input1[0][0]                     \n",
      "__________________________________________________________________________________________________\n",
      "Dropout_0.2 (Dropout)           (None, 14, 128)      0           BatchNorm-1[0][0]                \n",
      "__________________________________________________________________________________________________\n",
      "BiLSTM_0 (Bidirectional)        (None, 256)          439296      BPE_emb[0][0]                    \n",
      "__________________________________________________________________________________________________\n",
      "Flatten (Flatten)               (None, 1792)         0           Dropout_0.2[0][0]                \n",
      "__________________________________________________________________________________________________\n",
      "Concat (Concatenate)            (None, 2048)         0           BiLSTM_0[0][0]                   \n",
      "                                                                 Flatten[0][0]                    \n",
      "__________________________________________________________________________________________________\n",
      "Dense_1024_0 (Dense)            (None, 128)          262272      Concat[0][0]                     \n",
      "__________________________________________________________________________________________________\n",
      "Dense_NCLASS (Dense)            (None, 4)            516         Dense_1024_0[0][0]               \n",
      "==================================================================================================\n",
      "Total params: 854,560\n",
      "Trainable params: 854,304\n",
      "Non-trainable params: 256\n",
      "__________________________________________________________________________________________________\n"
     ]
    }
   ],
   "source": [
    "VOCAB_SIZE = embedding_matrix.shape[0]\n",
    "\n",
    "\n",
    "model = get_model(vocab_size = VOCAB_SIZE, \n",
    "                  n_classes=len(chars), \n",
    "                  seq_len_emb=MAXSEQLEN, \n",
    "                  seq_len_chars=MAXCHARSLEN)\n",
    "\n",
    "embedding = model.get_layer('BPE_emb')\n",
    "embedding.set_weights([embedding_matrix])\n",
    "embedding.trainable = False\n",
    "\n",
    "optimizer = Adam(lr=0.0001)\n",
    "model.compile(loss='categorical_crossentropy', optimizer=optimizer, metrics=['accuracy'])"
   ]
  },
  {
   "cell_type": "code",
   "execution_count": null,
   "metadata": {
    "scrolled": true
   },
   "outputs": [
    {
     "name": "stdout",
     "output_type": "stream",
     "text": [
      "WARNING:tensorflow:From /usr/local/lib/python3.6/dist-packages/tensorflow/python/ops/math_ops.py:3066: to_int32 (from tensorflow.python.ops.math_ops) is deprecated and will be removed in a future version.\n",
      "Instructions for updating:\n",
      "Use tf.cast instead.\n",
      "Train on 2412972 samples, validate on 603244 samples\n",
      "Epoch 1/160\n",
      "2412972/2412972 [==============================] - 626s 259us/step - loss: 1.3323 - acc: 0.3554 - val_loss: 1.3047 - val_acc: 0.3757\n",
      "\n",
      "Epoch 00001: val_loss improved from inf to 1.30465, saving model to ./same_/bilstm_emb_fasttext.h5\n",
      "Epoch 2/160\n",
      "2412972/2412972 [==============================] - 620s 257us/step - loss: 1.3026 - acc: 0.3769 - val_loss: 1.2933 - val_acc: 0.3844\n",
      "\n",
      "Epoch 00002: val_loss improved from 1.30465 to 1.29326, saving model to ./same_/bilstm_emb_fasttext.h5\n",
      "Epoch 3/160\n",
      "2412972/2412972 [==============================] - 619s 257us/step - loss: 1.2914 - acc: 0.3872 - val_loss: 1.2854 - val_acc: 0.3926\n",
      "\n",
      "Epoch 00003: val_loss improved from 1.29326 to 1.28544, saving model to ./same_/bilstm_emb_fasttext.h5\n",
      "Epoch 4/160\n",
      "2412972/2412972 [==============================] - 620s 257us/step - loss: 1.2822 - acc: 0.3959 - val_loss: 1.2788 - val_acc: 0.3984\n",
      "\n",
      "Epoch 00004: val_loss improved from 1.28544 to 1.27881, saving model to ./same_/bilstm_emb_fasttext.h5\n",
      "Epoch 5/160\n",
      "2412972/2412972 [==============================] - 620s 257us/step - loss: 1.2750 - acc: 0.4017 - val_loss: 1.2743 - val_acc: 0.4031\n",
      "\n",
      "Epoch 00005: val_loss improved from 1.27881 to 1.27431, saving model to ./same_/bilstm_emb_fasttext.h5\n",
      "Epoch 6/160\n",
      "2412972/2412972 [==============================] - 621s 257us/step - loss: 1.2688 - acc: 0.4076 - val_loss: 1.2699 - val_acc: 0.4064\n",
      "\n",
      "Epoch 00006: val_loss improved from 1.27431 to 1.26991, saving model to ./same_/bilstm_emb_fasttext.h5\n",
      "Epoch 7/160\n",
      "2412972/2412972 [==============================] - 621s 257us/step - loss: 1.2640 - acc: 0.4116 - val_loss: 1.2673 - val_acc: 0.4099\n",
      "\n",
      "Epoch 00007: val_loss improved from 1.26991 to 1.26735, saving model to ./same_/bilstm_emb_fasttext.h5\n",
      "Epoch 8/160\n",
      "2412972/2412972 [==============================] - 620s 257us/step - loss: 1.2598 - acc: 0.4154 - val_loss: 1.2644 - val_acc: 0.4127\n",
      "\n",
      "Epoch 00008: val_loss improved from 1.26735 to 1.26445, saving model to ./same_/bilstm_emb_fasttext.h5\n",
      "Epoch 9/160\n",
      "2412972/2412972 [==============================] - 620s 257us/step - loss: 1.2561 - acc: 0.4187 - val_loss: 1.2626 - val_acc: 0.4143\n",
      "\n",
      "Epoch 00009: val_loss improved from 1.26445 to 1.26265, saving model to ./same_/bilstm_emb_fasttext.h5\n",
      "Epoch 10/160\n",
      "2412972/2412972 [==============================] - 620s 257us/step - loss: 1.2528 - acc: 0.4214 - val_loss: 1.2593 - val_acc: 0.4166\n",
      "\n",
      "Epoch 00010: val_loss improved from 1.26265 to 1.25933, saving model to ./same_/bilstm_emb_fasttext.h5\n",
      "Epoch 11/160\n",
      "2412972/2412972 [==============================] - 621s 257us/step - loss: 1.2499 - acc: 0.4242 - val_loss: 1.2576 - val_acc: 0.4186\n",
      "\n",
      "Epoch 00011: val_loss improved from 1.25933 to 1.25760, saving model to ./same_/bilstm_emb_fasttext.h5\n",
      "Epoch 12/160\n",
      "2412972/2412972 [==============================] - 621s 257us/step - loss: 1.2470 - acc: 0.4263 - val_loss: 1.2558 - val_acc: 0.4205\n",
      "\n",
      "Epoch 00012: val_loss improved from 1.25760 to 1.25578, saving model to ./same_/bilstm_emb_fasttext.h5\n",
      "Epoch 13/160\n",
      "2412972/2412972 [==============================] - 620s 257us/step - loss: 1.2448 - acc: 0.4283 - val_loss: 1.2535 - val_acc: 0.4221\n",
      "\n",
      "Epoch 00013: val_loss improved from 1.25578 to 1.25347, saving model to ./same_/bilstm_emb_fasttext.h5\n",
      "Epoch 14/160\n",
      "2412972/2412972 [==============================] - 621s 257us/step - loss: 1.2424 - acc: 0.4303 - val_loss: 1.2519 - val_acc: 0.4239\n",
      "\n",
      "Epoch 00014: val_loss improved from 1.25347 to 1.25191, saving model to ./same_/bilstm_emb_fasttext.h5\n",
      "Epoch 15/160\n",
      "2412972/2412972 [==============================] - 621s 258us/step - loss: 1.2401 - acc: 0.4321 - val_loss: 1.2502 - val_acc: 0.4252\n",
      "\n",
      "Epoch 00015: val_loss improved from 1.25191 to 1.25020, saving model to ./same_/bilstm_emb_fasttext.h5\n",
      "Epoch 16/160\n",
      "2412972/2412972 [==============================] - 621s 257us/step - loss: 1.2379 - acc: 0.4342 - val_loss: 1.2483 - val_acc: 0.4270\n",
      "\n",
      "Epoch 00016: val_loss improved from 1.25020 to 1.24827, saving model to ./same_/bilstm_emb_fasttext.h5\n",
      "Epoch 17/160\n",
      "2412972/2412972 [==============================] - 620s 257us/step - loss: 1.2356 - acc: 0.4359 - val_loss: 1.2468 - val_acc: 0.4279\n",
      "\n",
      "Epoch 00017: val_loss improved from 1.24827 to 1.24684, saving model to ./same_/bilstm_emb_fasttext.h5\n",
      "Epoch 18/160\n",
      "2412972/2412972 [==============================] - 623s 258us/step - loss: 1.2338 - acc: 0.4372 - val_loss: 1.2456 - val_acc: 0.4295\n",
      "\n",
      "Epoch 00018: val_loss improved from 1.24684 to 1.24559, saving model to ./same_/bilstm_emb_fasttext.h5\n",
      "Epoch 19/160\n",
      "2412972/2412972 [==============================] - 620s 257us/step - loss: 1.2313 - acc: 0.4392 - val_loss: 1.2447 - val_acc: 0.4300\n",
      "\n",
      "Epoch 00019: val_loss improved from 1.24559 to 1.24472, saving model to ./same_/bilstm_emb_fasttext.h5\n",
      "Epoch 20/160\n",
      "2412972/2412972 [==============================] - 617s 256us/step - loss: 1.2295 - acc: 0.4407 - val_loss: 1.2429 - val_acc: 0.4307\n",
      "\n",
      "Epoch 00020: val_loss improved from 1.24472 to 1.24294, saving model to ./same_/bilstm_emb_fasttext.h5\n",
      "Epoch 21/160\n",
      "2412972/2412972 [==============================] - 620s 257us/step - loss: 1.2277 - acc: 0.4418 - val_loss: 1.2415 - val_acc: 0.4331\n",
      "\n",
      "Epoch 00021: val_loss improved from 1.24294 to 1.24151, saving model to ./same_/bilstm_emb_fasttext.h5\n",
      "Epoch 22/160\n",
      "2412972/2412972 [==============================] - 620s 257us/step - loss: 1.2259 - acc: 0.4437 - val_loss: 1.2399 - val_acc: 0.4335\n",
      "\n",
      "Epoch 00022: val_loss improved from 1.24151 to 1.23989, saving model to ./same_/bilstm_emb_fasttext.h5\n",
      "Epoch 23/160\n",
      "2412972/2412972 [==============================] - 621s 257us/step - loss: 1.2240 - acc: 0.4446 - val_loss: 1.2384 - val_acc: 0.4355\n",
      "\n",
      "Epoch 00023: val_loss improved from 1.23989 to 1.23838, saving model to ./same_/bilstm_emb_fasttext.h5\n",
      "Epoch 24/160\n",
      "2412972/2412972 [==============================] - 620s 257us/step - loss: 1.2219 - acc: 0.4467 - val_loss: 1.2371 - val_acc: 0.4364\n",
      "\n",
      "Epoch 00024: val_loss improved from 1.23838 to 1.23712, saving model to ./same_/bilstm_emb_fasttext.h5\n",
      "Epoch 25/160\n",
      "2412972/2412972 [==============================] - 620s 257us/step - loss: 1.2203 - acc: 0.4480 - val_loss: 1.2356 - val_acc: 0.4382\n",
      "\n",
      "Epoch 00025: val_loss improved from 1.23712 to 1.23562, saving model to ./same_/bilstm_emb_fasttext.h5\n",
      "Epoch 26/160\n",
      "2412972/2412972 [==============================] - 621s 257us/step - loss: 1.2184 - acc: 0.4492 - val_loss: 1.2343 - val_acc: 0.4396\n",
      "\n",
      "Epoch 00026: val_loss improved from 1.23562 to 1.23429, saving model to ./same_/bilstm_emb_fasttext.h5\n",
      "Epoch 27/160\n",
      "2412972/2412972 [==============================] - 620s 257us/step - loss: 1.2170 - acc: 0.4502 - val_loss: 1.2331 - val_acc: 0.4409\n",
      "\n",
      "Epoch 00027: val_loss improved from 1.23429 to 1.23312, saving model to ./same_/bilstm_emb_fasttext.h5\n",
      "Epoch 28/160\n",
      "2412972/2412972 [==============================] - 620s 257us/step - loss: 1.2151 - acc: 0.4517 - val_loss: 1.2322 - val_acc: 0.4408\n",
      "\n",
      "Epoch 00028: val_loss improved from 1.23312 to 1.23225, saving model to ./same_/bilstm_emb_fasttext.h5\n",
      "Epoch 29/160\n",
      "2412972/2412972 [==============================] - 618s 256us/step - loss: 1.2132 - acc: 0.4529 - val_loss: 1.2310 - val_acc: 0.4424\n",
      "\n",
      "Epoch 00029: val_loss improved from 1.23225 to 1.23099, saving model to ./same_/bilstm_emb_fasttext.h5\n",
      "Epoch 30/160\n",
      "2412972/2412972 [==============================] - 620s 257us/step - loss: 1.2115 - acc: 0.4543 - val_loss: 1.2292 - val_acc: 0.4431\n",
      "\n",
      "Epoch 00030: val_loss improved from 1.23099 to 1.22925, saving model to ./same_/bilstm_emb_fasttext.h5\n",
      "Epoch 31/160\n",
      "2412972/2412972 [==============================] - 623s 258us/step - loss: 1.2101 - acc: 0.4555 - val_loss: 1.2298 - val_acc: 0.4436\n",
      "\n",
      "Epoch 00031: val_loss did not improve from 1.22925\n",
      "Epoch 32/160\n",
      "2412972/2412972 [==============================] - 623s 258us/step - loss: 1.2086 - acc: 0.4566 - val_loss: 1.2273 - val_acc: 0.4449\n",
      "\n",
      "Epoch 00032: val_loss improved from 1.22925 to 1.22730, saving model to ./same_/bilstm_emb_fasttext.h5\n"
     ]
    },
    {
     "name": "stdout",
     "output_type": "stream",
     "text": [
      "Epoch 33/160\n",
      "2412972/2412972 [==============================] - 630s 261us/step - loss: 1.2073 - acc: 0.4573 - val_loss: 1.2263 - val_acc: 0.4461\n",
      "\n",
      "Epoch 00033: val_loss improved from 1.22730 to 1.22626, saving model to ./same_/bilstm_emb_fasttext.h5\n",
      "Epoch 34/160\n",
      "2412972/2412972 [==============================] - 623s 258us/step - loss: 1.2056 - acc: 0.4595 - val_loss: 1.2252 - val_acc: 0.4473\n",
      "\n",
      "Epoch 00034: val_loss improved from 1.22626 to 1.22523, saving model to ./same_/bilstm_emb_fasttext.h5\n",
      "Epoch 35/160\n",
      "2412972/2412972 [==============================] - 624s 259us/step - loss: 1.2039 - acc: 0.4602 - val_loss: 1.2243 - val_acc: 0.4481\n",
      "\n",
      "Epoch 00035: val_loss improved from 1.22523 to 1.22428, saving model to ./same_/bilstm_emb_fasttext.h5\n",
      "Epoch 36/160\n",
      "2412972/2412972 [==============================] - 640s 265us/step - loss: 1.2025 - acc: 0.4615 - val_loss: 1.2232 - val_acc: 0.4490\n",
      "\n",
      "Epoch 00036: val_loss improved from 1.22428 to 1.22321, saving model to ./same_/bilstm_emb_fasttext.h5\n",
      "Epoch 37/160\n",
      "2412972/2412972 [==============================] - 650s 269us/step - loss: 1.2009 - acc: 0.4626 - val_loss: 1.2226 - val_acc: 0.4500\n",
      "\n",
      "Epoch 00037: val_loss improved from 1.22321 to 1.22256, saving model to ./same_/bilstm_emb_fasttext.h5\n",
      "Epoch 38/160\n",
      "2412972/2412972 [==============================] - 859s 356us/step - loss: 1.1996 - acc: 0.4636 - val_loss: 1.2218 - val_acc: 0.4496\n",
      "\n",
      "Epoch 00038: val_loss improved from 1.22256 to 1.22181, saving model to ./same_/bilstm_emb_fasttext.h5\n",
      "Epoch 39/160\n",
      "2412972/2412972 [==============================] - 861s 357us/step - loss: 1.1984 - acc: 0.4646 - val_loss: 1.2205 - val_acc: 0.4519\n",
      "\n",
      "Epoch 00039: val_loss improved from 1.22181 to 1.22049, saving model to ./same_/bilstm_emb_fasttext.h5\n",
      "Epoch 40/160\n",
      "2412972/2412972 [==============================] - 853s 354us/step - loss: 1.1970 - acc: 0.4655 - val_loss: 1.2189 - val_acc: 0.4528\n",
      "\n",
      "Epoch 00040: val_loss improved from 1.22049 to 1.21886, saving model to ./same_/bilstm_emb_fasttext.h5\n",
      "Epoch 41/160\n",
      "2412972/2412972 [==============================] - 853s 354us/step - loss: 1.1953 - acc: 0.4670 - val_loss: 1.2179 - val_acc: 0.4535\n",
      "\n",
      "Epoch 00041: val_loss improved from 1.21886 to 1.21794, saving model to ./same_/bilstm_emb_fasttext.h5\n",
      "Epoch 42/160\n",
      "2412972/2412972 [==============================] - 857s 355us/step - loss: 1.1942 - acc: 0.4680 - val_loss: 1.2177 - val_acc: 0.4537\n",
      "\n",
      "Epoch 00042: val_loss improved from 1.21794 to 1.21770, saving model to ./same_/bilstm_emb_fasttext.h5\n",
      "Epoch 43/160\n",
      "2412972/2412972 [==============================] - 852s 353us/step - loss: 1.1928 - acc: 0.4684 - val_loss: 1.2166 - val_acc: 0.4550\n",
      "\n",
      "Epoch 00043: val_loss improved from 1.21770 to 1.21657, saving model to ./same_/bilstm_emb_fasttext.h5\n",
      "Epoch 44/160\n",
      "2412972/2412972 [==============================] - 752s 312us/step - loss: 1.1920 - acc: 0.4694 - val_loss: 1.2164 - val_acc: 0.4555\n",
      "\n",
      "Epoch 00044: val_loss improved from 1.21657 to 1.21636, saving model to ./same_/bilstm_emb_fasttext.h5\n",
      "Epoch 45/160\n",
      "2412972/2412972 [==============================] - 770s 319us/step - loss: 1.1907 - acc: 0.4700 - val_loss: 1.2154 - val_acc: 0.4564\n",
      "\n",
      "Epoch 00045: val_loss improved from 1.21636 to 1.21538, saving model to ./same_/bilstm_emb_fasttext.h5\n",
      "Epoch 46/160\n",
      "2412972/2412972 [==============================] - 815s 338us/step - loss: 1.1894 - acc: 0.4710 - val_loss: 1.2140 - val_acc: 0.4565\n",
      "\n",
      "Epoch 00046: val_loss improved from 1.21538 to 1.21404, saving model to ./same_/bilstm_emb_fasttext.h5\n",
      "Epoch 47/160\n",
      "2412972/2412972 [==============================] - 814s 337us/step - loss: 1.1882 - acc: 0.4718 - val_loss: 1.2133 - val_acc: 0.4574\n",
      "\n",
      "Epoch 00047: val_loss improved from 1.21404 to 1.21330, saving model to ./same_/bilstm_emb_fasttext.h5\n",
      "Epoch 48/160\n",
      "2412972/2412972 [==============================] - 814s 337us/step - loss: 1.1871 - acc: 0.4726 - val_loss: 1.2125 - val_acc: 0.4575\n",
      "\n",
      "Epoch 00048: val_loss improved from 1.21330 to 1.21245, saving model to ./same_/bilstm_emb_fasttext.h5\n",
      "Epoch 49/160\n",
      "2412972/2412972 [==============================] - 814s 337us/step - loss: 1.1860 - acc: 0.4733 - val_loss: 1.2114 - val_acc: 0.4592\n",
      "\n",
      "Epoch 00049: val_loss improved from 1.21245 to 1.21140, saving model to ./same_/bilstm_emb_fasttext.h5\n",
      "Epoch 50/160\n",
      "2412972/2412972 [==============================] - 816s 338us/step - loss: 1.1849 - acc: 0.4741 - val_loss: 1.2110 - val_acc: 0.4594\n",
      "\n",
      "Epoch 00050: val_loss improved from 1.21140 to 1.21100, saving model to ./same_/bilstm_emb_fasttext.h5\n",
      "Epoch 51/160\n",
      "2412972/2412972 [==============================] - 815s 338us/step - loss: 1.1841 - acc: 0.4747 - val_loss: 1.2103 - val_acc: 0.4602\n",
      "\n",
      "Epoch 00051: val_loss improved from 1.21100 to 1.21031, saving model to ./same_/bilstm_emb_fasttext.h5\n",
      "Epoch 52/160\n",
      "2412972/2412972 [==============================] - 816s 338us/step - loss: 1.1831 - acc: 0.4755 - val_loss: 1.2099 - val_acc: 0.4607\n",
      "\n",
      "Epoch 00052: val_loss improved from 1.21031 to 1.20988, saving model to ./same_/bilstm_emb_fasttext.h5\n",
      "Epoch 53/160\n",
      "2412972/2412972 [==============================] - 943s 391us/step - loss: 1.1818 - acc: 0.4764 - val_loss: 1.2096 - val_acc: 0.4601\n",
      "\n",
      "Epoch 00053: val_loss improved from 1.20988 to 1.20963, saving model to ./same_/bilstm_emb_fasttext.h5\n",
      "Epoch 54/160\n",
      "2412972/2412972 [==============================] - 1188s 492us/step - loss: 1.1806 - acc: 0.4775 - val_loss: 1.2079 - val_acc: 0.4618\n",
      "\n",
      "Epoch 00054: val_loss improved from 1.20963 to 1.20795, saving model to ./same_/bilstm_emb_fasttext.h5\n",
      "Epoch 55/160\n",
      "2412972/2412972 [==============================] - 1188s 492us/step - loss: 1.1798 - acc: 0.4776 - val_loss: 1.2075 - val_acc: 0.4625\n",
      "\n",
      "Epoch 00055: val_loss improved from 1.20795 to 1.20753, saving model to ./same_/bilstm_emb_fasttext.h5\n",
      "Epoch 56/160\n",
      "2412972/2412972 [==============================] - 1186s 491us/step - loss: 1.1793 - acc: 0.4782 - val_loss: 1.2065 - val_acc: 0.4635\n",
      "\n",
      "Epoch 00056: val_loss improved from 1.20753 to 1.20653, saving model to ./same_/bilstm_emb_fasttext.h5\n",
      "Epoch 57/160\n",
      "2412972/2412972 [==============================] - 1188s 492us/step - loss: 1.1783 - acc: 0.4791 - val_loss: 1.2060 - val_acc: 0.4633\n",
      "\n",
      "Epoch 00057: val_loss improved from 1.20653 to 1.20597, saving model to ./same_/bilstm_emb_fasttext.h5\n",
      "Epoch 58/160\n",
      "2412972/2412972 [==============================] - 1185s 491us/step - loss: 1.1772 - acc: 0.4797 - val_loss: 1.2052 - val_acc: 0.4646\n",
      "\n",
      "Epoch 00058: val_loss improved from 1.20597 to 1.20521, saving model to ./same_/bilstm_emb_fasttext.h5\n",
      "Epoch 59/160\n",
      "2412972/2412972 [==============================] - 1189s 493us/step - loss: 1.1763 - acc: 0.4804 - val_loss: 1.2049 - val_acc: 0.4652\n",
      "\n",
      "Epoch 00059: val_loss improved from 1.20521 to 1.20492, saving model to ./same_/bilstm_emb_fasttext.h5\n",
      "Epoch 60/160\n",
      "2412972/2412972 [==============================] - 1152s 477us/step - loss: 1.1750 - acc: 0.4812 - val_loss: 1.2033 - val_acc: 0.4662\n",
      "\n",
      "Epoch 00060: val_loss improved from 1.20492 to 1.20329, saving model to ./same_/bilstm_emb_fasttext.h5\n",
      "Epoch 61/160\n",
      "2412972/2412972 [==============================] - 1022s 424us/step - loss: 1.1746 - acc: 0.4813 - val_loss: 1.2029 - val_acc: 0.4661\n",
      "\n",
      "Epoch 00061: val_loss improved from 1.20329 to 1.20293, saving model to ./same_/bilstm_emb_fasttext.h5\n",
      "Epoch 62/160\n",
      "2412972/2412972 [==============================] - 1021s 423us/step - loss: 1.1739 - acc: 0.4819 - val_loss: 1.2025 - val_acc: 0.4664\n",
      "\n",
      "Epoch 00062: val_loss improved from 1.20293 to 1.20245, saving model to ./same_/bilstm_emb_fasttext.h5\n",
      "Epoch 63/160\n",
      "2412972/2412972 [==============================] - 1021s 423us/step - loss: 1.1724 - acc: 0.4833 - val_loss: 1.2032 - val_acc: 0.4659\n",
      "\n",
      "Epoch 00063: val_loss did not improve from 1.20245\n",
      "Epoch 64/160\n",
      "2412972/2412972 [==============================] - 1021s 423us/step - loss: 1.1723 - acc: 0.4827 - val_loss: 1.2018 - val_acc: 0.4680\n",
      "\n",
      "Epoch 00064: val_loss improved from 1.20245 to 1.20179, saving model to ./same_/bilstm_emb_fasttext.h5\n",
      "Epoch 65/160\n",
      "2412972/2412972 [==============================] - 1020s 423us/step - loss: 1.1712 - acc: 0.4841 - val_loss: 1.2009 - val_acc: 0.4677\n",
      "\n",
      "Epoch 00065: val_loss improved from 1.20179 to 1.20093, saving model to ./same_/bilstm_emb_fasttext.h5\n"
     ]
    },
    {
     "name": "stdout",
     "output_type": "stream",
     "text": [
      "Epoch 66/160\n",
      "2412972/2412972 [==============================] - 1021s 423us/step - loss: 1.1705 - acc: 0.4845 - val_loss: 1.2002 - val_acc: 0.4692\n",
      "\n",
      "Epoch 00066: val_loss improved from 1.20093 to 1.20025, saving model to ./same_/bilstm_emb_fasttext.h5\n",
      "Epoch 67/160\n",
      "1044200/2412972 [===========>..................] - ETA: 8:37 - loss: 1.1685 - acc: 0.4861"
     ]
    }
   ],
   "source": [
    "path = './same_/bilstm_emb_fasttext.h5'\n",
    "\n",
    "callbacks = [EarlyStopping(patience=12, monitor='val_loss'),\n",
    "             ModelCheckpoint(path, monitor='val_loss', verbose=1, save_best_only=True),\n",
    "             ReduceLROnPlateau(monitor='val_loss', factor=0.05, patience=3, verbose=1)]\n",
    "\n",
    "BATCH_SIZE=200\n",
    "n_epoch=160\n",
    "\n",
    "history = model.fit([X_toks_train, X_train], y_train, batch_size=BATCH_SIZE, epochs=n_epoch, shuffle=True,\n",
    "                     validation_split=0.2, verbose=1, callbacks=callbacks).history"
   ]
  },
  {
   "cell_type": "code",
   "execution_count": 22,
   "metadata": {},
   "outputs": [
    {
     "data": {
      "image/png": "[encoded data removed]",
      "text/plain": [
       "<Figure size 432x288 with 1 Axes>"
      ]
     },
     "metadata": {
      "needs_background": "light"
     },
     "output_type": "display_data"
    },
    {
     "data": {
      "image/png": "[encoded data removed]",
      "text/plain": [
       "<Figure size 432x288 with 1 Axes>"
      ]
     },
     "metadata": {
      "needs_background": "light"
     },
     "output_type": "display_data"
    }
   ],
   "source": [
    "plot_metrics(history)"
   ]
  },
  {
   "cell_type": "markdown",
   "metadata": {},
   "source": [
    "# OOB Validation"
   ]
  },
  {
   "cell_type": "code",
   "execution_count": null,
   "metadata": {},
   "outputs": [],
   "source": [
    "model = load_model(path)"
   ]
  },
  {
   "cell_type": "code",
   "execution_count": 23,
   "metadata": {},
   "outputs": [],
   "source": [
    "y_pred = model.predict([X_toks_test, X_test])\n",
    "y_pred = y_pred.argmax(axis=-1)\n",
    "\n",
    "y_true = y_test.argmax(axis=-1)"
   ]
  },
  {
   "cell_type": "code",
   "execution_count": 25,
   "metadata": {},
   "outputs": [
    {
     "data": {
      "image/png": "[encoded data removed]",
      "text/plain": [
       "<Figure size 432x288 with 2 Axes>"
      ]
     },
     "metadata": {
      "needs_background": "light"
     },
     "output_type": "display_data"
    }
   ],
   "source": [
    "confusion_matrix_heatmap(y_true, y_pred)"
   ]
  },
  {
   "cell_type": "code",
   "execution_count": 24,
   "metadata": {},
   "outputs": [
    {
     "name": "stdout",
     "output_type": "stream",
     "text": [
      "              precision    recall  f1-score   support\n",
      "\n",
      "           0       0.49      0.48      0.48     83839\n",
      "           1       0.49      0.45      0.47     83784\n",
      "           2       0.50      0.53      0.51     83651\n",
      "           3       0.49      0.50      0.49     83862\n",
      "\n",
      "    accuracy                           0.49    335136\n",
      "   macro avg       0.49      0.49      0.49    335136\n",
      "weighted avg       0.49      0.49      0.49    335136\n",
      "\n"
     ]
    }
   ],
   "source": [
    "print(classification_report(y_true, y_pred))"
   ]
  },
  {
   "cell_type": "code",
   "execution_count": null,
   "metadata": {},
   "outputs": [],
   "source": []
  }
 ],
 "metadata": {
  "kernelspec": {
   "display_name": "Python 3",
   "language": "python",
   "name": "python3"
  },
  "language_info": {
   "codemirror_mode": {
    "name": "ipython",
    "version": 3
   },
   "file_extension": ".py",
   "mimetype": "text/x-python",
   "name": "python",
   "nbconvert_exporter": "python",
   "pygments_lexer": "ipython3",
   "version": "3.6.9"
  },
  "toc": {
   "base_numbering": 1,
   "nav_menu": {},
   "number_sections": true,
   "sideBar": true,
   "skip_h1_title": false,
   "title_cell": "Table of Contents",
   "title_sidebar": "Contents",
   "toc_cell": false,
   "toc_position": {
    "height": "calc(100% - 180px)",
    "left": "10px",
    "top": "150px",
    "width": "165px"
   },
   "toc_section_display": true,
   "toc_window_display": true
  },
  "varInspector": {
   "cols": {
    "lenName": 16,
    "lenType": 16,
    "lenVar": 40
   },
   "kernels_config": {
    "python": {
     "delete_cmd_postfix": "",
     "delete_cmd_prefix": "del ",
     "library": "var_list.py",
     "varRefreshCmd": "print(var_dic_list())"
    },
    "r": {
     "delete_cmd_postfix": ") ",
     "delete_cmd_prefix": "rm(",
     "library": "var_list.r",
     "varRefreshCmd": "cat(var_dic_list()) "
    }
   },
   "position": {
    "height": "655px",
    "left": "1070px",
    "right": "20px",
    "top": "120px",
    "width": "350px"
   },
   "types_to_exclude": [
    "module",
    "function",
    "builtin_function_or_method",
    "instance",
    "_Feature"
   ],
   "window_display": false
  }
 },
 "nbformat": 4,
 "nbformat_minor": 2
}
