{
 "cells": [
  {
   "cell_type": "markdown",
   "metadata": {},
   "source": [
    "    https://www.ncbi.nlm.nih.gov/pmc/articles/PMC4914104/\n",
    "    За основу взята данная архитектура: сворачивание входных данных, затем bilstm.\n",
    "    \n",
    "    В качестве входных данных использовались one-hot последовательности длинной от 5 до 30 символов и предсказывался следующий символ, те бралась только информация слева."
   ]
  },
  {
   "cell_type": "markdown",
   "metadata": {},
   "source": [
    "`(test 0.42)`\n",
    "`(эпох 160, батч 200)`"
   ]
  },
  {
   "cell_type": "markdown",
   "metadata": {},
   "source": [
    "### Libraries"
   ]
  },
  {
   "cell_type": "code",
   "execution_count": 1,
   "metadata": {},
   "outputs": [],
   "source": [
    "%reload_ext autoreload\n",
    "%autoreload 2"
   ]
  },
  {
   "cell_type": "code",
   "execution_count": 2,
   "metadata": {},
   "outputs": [
    {
     "name": "stderr",
     "output_type": "stream",
     "text": [
      "Using TensorFlow backend.\n"
     ]
    }
   ],
   "source": [
    "from keras.models import Sequential, load_model\n",
    "from keras.layers import Dense, Dropout, Activation, Flatten, BatchNormalization\n",
    "from keras.layers import LSTM, Bidirectional, Conv1D, MaxPool1D \n",
    "from keras.callbacks import EarlyStopping, ModelCheckpoint, ReduceLROnPlateau\n",
    "\n",
    "from keras.backend.tensorflow_backend import set_session\n",
    "from keras import backend as K\n",
    "import tensorflow as tf\n",
    "\n",
    "import os\n",
    "os.environ[\"CUDA_VISIBLE_DEVICES\"]=\"0\"\n",
    "curruser = os.environ.get('USER')\n",
    "\n",
    "import pandas as pd\n",
    "import numpy as np\n",
    "\n",
    "import sys\n",
    "sys.path.append('./src')\n",
    "from PreprocInput import preproc_\n",
    "\n",
    "from sklearn.metrics import confusion_matrix, classification_report\n",
    "from sklearn.model_selection import train_test_split\n",
    "\n",
    "from pylab import rcParams\n",
    "from matplotlib import pyplot as plt\n",
    "import seaborn as sns\n",
    "%matplotlib inline\n",
    "\n",
    "sns.set(style='whitegrid', palette='muted', font_scale=1.5)\n",
    "rcParams['figure.figsize'] = 12, 5"
   ]
  },
  {
   "cell_type": "markdown",
   "metadata": {},
   "source": [
    "### Set GPU"
   ]
  },
  {
   "cell_type": "code",
   "execution_count": 24,
   "metadata": {},
   "outputs": [],
   "source": [
    "with K.tf.device('/GPU:0'):\n",
    "    config = tf.ConfigProto()\n",
    "    config.gpu_options.per_process_gpu_memory_fraction = 0.6\n",
    "    session = tf.Session(config=config)\n",
    "    K.set_session(session)"
   ]
  },
  {
   "cell_type": "markdown",
   "metadata": {},
   "source": [
    "### Secondary functions"
   ]
  },
  {
   "cell_type": "code",
   "execution_count": 3,
   "metadata": {},
   "outputs": [],
   "source": [
    "def plot_metrics(history):\n",
    "    plt.plot(history['acc'])\n",
    "    plt.plot(history['val_acc'])\n",
    "    plt.title('model accuracy')\n",
    "    plt.ylabel('accuracy')\n",
    "    plt.xlabel('epoch')\n",
    "    plt.legend(['train', 'test'], loc='upper left')\n",
    "    \n",
    "    plt.figure()\n",
    "    plt.plot(history['loss'])\n",
    "    plt.plot(history['val_loss'])\n",
    "    plt.title('model loss')\n",
    "    plt.ylabel('loss')\n",
    "    plt.xlabel('epoch')\n",
    "    plt.legend(['train', 'test'], loc='upper left')"
   ]
  },
  {
   "cell_type": "code",
   "execution_count": 4,
   "metadata": {},
   "outputs": [],
   "source": [
    "def confusion_matrix_heatmap(y_true, y_pred):\n",
    "    '''\n",
    "    Построение Confusion matrix (матрицы ошибок)\n",
    "\n",
    "    Parameters\n",
    "    ----------\n",
    "    y_test: pandas.Series, numpy.array\n",
    "        Целевая для обучающего набора\n",
    "    y_pred: pandas.Series, numpy.array\n",
    "        Значения целевой переменной, предсказанные классификатором\n",
    "    '''\n",
    "    rcParams['figure.figsize'] = 6, 4\n",
    "    sns.heatmap(confusion_matrix(y_true, y_pred), annot=True, fmt='d', cmap='Greens')\n",
    "    plt.ylabel('True label')\n",
    "    plt.xlabel('Predicted label')\n",
    "    plt.show()"
   ]
  },
  {
   "cell_type": "markdown",
   "metadata": {},
   "source": [
    "# Load dataset and preproc"
   ]
  },
  {
   "cell_type": "code",
   "execution_count": 3,
   "metadata": {
    "scrolled": true
   },
   "outputs": [
    {
     "data": {
      "text/html": [
       "<div>\n",
       "<style scoped>\n",
       "    .dataframe tbody tr th:only-of-type {\n",
       "        vertical-align: middle;\n",
       "    }\n",
       "\n",
       "    .dataframe tbody tr th {\n",
       "        vertical-align: top;\n",
       "    }\n",
       "\n",
       "    .dataframe thead th {\n",
       "        text-align: right;\n",
       "    }\n",
       "</style>\n",
       "<table border=\"1\" class=\"dataframe\">\n",
       "  <thead>\n",
       "    <tr style=\"text-align: right;\">\n",
       "      <th></th>\n",
       "      <th>seq</th>\n",
       "      <th>label</th>\n",
       "    </tr>\n",
       "  </thead>\n",
       "  <tbody>\n",
       "    <tr>\n",
       "      <td>0</td>\n",
       "      <td>ACGGCTGGAGCCCATGTTCAGCATGAAAAC</td>\n",
       "      <td>A</td>\n",
       "    </tr>\n",
       "    <tr>\n",
       "      <td>1</td>\n",
       "      <td>TAAATTTCTGGATGGCAATGAAATGACATT</td>\n",
       "      <td>A</td>\n",
       "    </tr>\n",
       "    <tr>\n",
       "      <td>2</td>\n",
       "      <td>TCCACTTGGCAGCCAAATATGGCCAGACAA</td>\n",
       "      <td>A</td>\n",
       "    </tr>\n",
       "    <tr>\n",
       "      <td>3</td>\n",
       "      <td>CGGAGGAGAGCACCGAGCCCCTGAGTGAGG</td>\n",
       "      <td>A</td>\n",
       "    </tr>\n",
       "    <tr>\n",
       "      <td>4</td>\n",
       "      <td>GGACCACATTTGGGGAGCTTGCCATTTTAT</td>\n",
       "      <td>A</td>\n",
       "    </tr>\n",
       "  </tbody>\n",
       "</table>\n",
       "</div>"
      ],
      "text/plain": [
       "                              seq label\n",
       "0  ACGGCTGGAGCCCATGTTCAGCATGAAAAC     A\n",
       "1  TAAATTTCTGGATGGCAATGAAATGACATT     A\n",
       "2  TCCACTTGGCAGCCAAATATGGCCAGACAA     A\n",
       "3  CGGAGGAGAGCACCGAGCCCCTGAGTGAGG     A\n",
       "4  GGACCACATTTGGGGAGCTTGCCATTTTAT     A"
      ]
     },
     "execution_count": 3,
     "metadata": {},
     "output_type": "execute_result"
    }
   ],
   "source": [
    "data = pd.read_csv('./data/LeftWrap_5to30.csv', sep=';')\n",
    "data.head(5)"
   ]
  },
  {
   "cell_type": "code",
   "execution_count": 4,
   "metadata": {},
   "outputs": [
    {
     "data": {
      "text/plain": [
       "(3351352, 2)"
      ]
     },
     "execution_count": 4,
     "metadata": {},
     "output_type": "execute_result"
    }
   ],
   "source": [
    "data.shape"
   ]
  },
  {
   "cell_type": "code",
   "execution_count": 5,
   "metadata": {},
   "outputs": [
    {
     "data": {
      "text/plain": [
       "{0: 'A', 1: 'C', 2: 'G', 3: 'T'}"
      ]
     },
     "execution_count": 5,
     "metadata": {},
     "output_type": "execute_result"
    }
   ],
   "source": [
    "chars = sorted(list(set(data.label.values)))\n",
    "char_indices = dict((c, i) for i, c in enumerate(chars))\n",
    "indices_char = dict((i, c) for i, c in enumerate(chars))\n",
    "indices_char"
   ]
  },
  {
   "cell_type": "code",
   "execution_count": 6,
   "metadata": {},
   "outputs": [
    {
     "data": {
      "text/plain": [
       "((3351352, 30, 4), (3351352, 4))"
      ]
     },
     "execution_count": 6,
     "metadata": {},
     "output_type": "execute_result"
    }
   ],
   "source": [
    "MAXSEQLEN = max(map(len, data.seq.values))\n",
    "\n",
    "X_data, y_data = preproc_.get_input_array(data.seq.values, data.label.values, MAXSEQLEN , chars, char_indices)\n",
    "X_data.shape, y_data.shape"
   ]
  },
  {
   "cell_type": "code",
   "execution_count": 11,
   "metadata": {},
   "outputs": [],
   "source": [
    "X_train, X_test, y_train, y_test = train_test_split(X_data, y_data, test_size=0.2, random_state=42, shuffle=True)"
   ]
  },
  {
   "cell_type": "markdown",
   "metadata": {},
   "source": [
    "# Build and train model: CNN+BILSTM"
   ]
  },
  {
   "cell_type": "code",
   "execution_count": 12,
   "metadata": {},
   "outputs": [
    {
     "name": "stdout",
     "output_type": "stream",
     "text": [
      "WARNING:tensorflow:From /usr/local/lib/python3.6/dist-packages/tensorflow/python/framework/op_def_library.py:263: colocate_with (from tensorflow.python.framework.ops) is deprecated and will be removed in a future version.\n",
      "Instructions for updating:\n",
      "Colocations handled automatically by placer.\n",
      "WARNING:tensorflow:From /home/ruser7/.local/lib/python3.6/site-packages/keras/backend/tensorflow_backend.py:3445: calling dropout (from tensorflow.python.ops.nn_ops) with keep_prob is deprecated and will be removed in a future version.\n",
      "Instructions for updating:\n",
      "Please use `rate` instead of `keep_prob`. Rate should be set to `rate = 1 - keep_prob`.\n",
      "_________________________________________________________________\n",
      "Layer (type)                 Output Shape              Param #   \n",
      "=================================================================\n",
      "conv1d_1 (Conv1D)            (None, 25, 120)           3000      \n",
      "_________________________________________________________________\n",
      "max_pooling1d_1 (MaxPooling1 (None, 6, 120)            0         \n",
      "_________________________________________________________________\n",
      "batch_normalization_1 (Batch (None, 6, 120)            480       \n",
      "_________________________________________________________________\n",
      "dropout_1 (Dropout)          (None, 6, 120)            0         \n",
      "_________________________________________________________________\n",
      "bidirectional_1 (Bidirection (None, 6, 256)            254976    \n",
      "_________________________________________________________________\n",
      "flatten_1 (Flatten)          (None, 1536)              0         \n",
      "_________________________________________________________________\n",
      "dense_1 (Dense)              (None, 64)                98368     \n",
      "_________________________________________________________________\n",
      "activation_1 (Activation)    (None, 64)                0         \n",
      "_________________________________________________________________\n",
      "dense_2 (Dense)              (None, 4)                 260       \n",
      "_________________________________________________________________\n",
      "activation_2 (Activation)    (None, 4)                 0         \n",
      "=================================================================\n",
      "Total params: 357,084\n",
      "Trainable params: 356,844\n",
      "Non-trainable params: 240\n",
      "_________________________________________________________________\n"
     ]
    }
   ],
   "source": [
    "def danq_model(seq_length, vocab_size):\n",
    "\n",
    "    model = Sequential()\n",
    "    model.add(Conv1D(input_shape=(seq_length, vocab_size),\n",
    "                        kernel_size=6,\n",
    "                        filters=120,\n",
    "                        padding=\"valid\",\n",
    "                        activation=\"tanh\"))\n",
    "\n",
    "    model.add(MaxPool1D(pool_size=4, strides=4))\n",
    "    \n",
    "    model.add(BatchNormalization())\n",
    "\n",
    "    model.add(Dropout(0.2))\n",
    "\n",
    "    model.add(Bidirectional(LSTM(units=128, return_sequences=True, dropout=0.2, recurrent_dropout=0.2)))\n",
    "\n",
    "\n",
    "    model.add(Flatten())\n",
    "\n",
    "    model.add(Dense(64))\n",
    "    model.add(Activation('tanh'))\n",
    "\n",
    "    model.add(Dense(vocab_size))\n",
    "    model.add(Activation('softmax'))\n",
    "    \n",
    "    model.compile(loss='categorical_crossentropy', optimizer='rmsprop', metrics=['accuracy'])\n",
    "    \n",
    "    return model\n",
    "\n",
    "model = danq_model(MAXSEQLEN, len(chars))\n",
    "model.summary()"
   ]
  },
  {
   "cell_type": "code",
   "execution_count": null,
   "metadata": {
    "collapsed": true
   },
   "outputs": [
    {
     "name": "stdout",
     "output_type": "stream",
     "text": [
      "WARNING:tensorflow:From /usr/local/lib/python3.6/dist-packages/tensorflow/python/ops/math_ops.py:3066: to_int32 (from tensorflow.python.ops.math_ops) is deprecated and will be removed in a future version.\n",
      "Instructions for updating:\n",
      "Use tf.cast instead.\n",
      "Train on 2144864 samples, validate on 536217 samples\n",
      "Epoch 1/160\n",
      "2144864/2144864 [==============================] - 413s 193us/step - loss: 1.3486 - acc: 0.3282 - val_loss: 1.3373 - val_acc: 0.3395\n",
      "\n",
      "Epoch 00001: val_loss improved from inf to 1.33729, saving model to ./same_/danq_hybrid.h5\n",
      "Epoch 2/160\n",
      "2144864/2144864 [==============================] - 408s 190us/step - loss: 1.3347 - acc: 0.3408 - val_loss: 1.3267 - val_acc: 0.3487\n",
      "\n",
      "Epoch 00002: val_loss improved from 1.33729 to 1.32672, saving model to ./same_/danq_hybrid.h5\n",
      "Epoch 3/160\n",
      "2144864/2144864 [==============================] - 407s 190us/step - loss: 1.3271 - acc: 0.3480 - val_loss: 1.3199 - val_acc: 0.3535\n",
      "\n",
      "Epoch 00003: val_loss improved from 1.32672 to 1.31990, saving model to ./same_/danq_hybrid.h5\n",
      "Epoch 4/160\n",
      "2144864/2144864 [==============================] - 406s 189us/step - loss: 1.3214 - acc: 0.3533 - val_loss: 1.3134 - val_acc: 0.3599\n",
      "\n",
      "Epoch 00004: val_loss improved from 1.31990 to 1.31343, saving model to ./same_/danq_hybrid.h5\n",
      "Epoch 5/160\n",
      "2144864/2144864 [==============================] - 407s 190us/step - loss: 1.3170 - acc: 0.3575 - val_loss: 1.3091 - val_acc: 0.3638\n",
      "\n",
      "Epoch 00005: val_loss improved from 1.31343 to 1.30912, saving model to ./same_/danq_hybrid.h5\n",
      "Epoch 6/160\n",
      "2144864/2144864 [==============================] - 405s 189us/step - loss: 1.3128 - acc: 0.3616 - val_loss: 1.3060 - val_acc: 0.3676\n",
      "\n",
      "Epoch 00006: val_loss improved from 1.30912 to 1.30599, saving model to ./same_/danq_hybrid.h5\n",
      "Epoch 7/160\n",
      "2144864/2144864 [==============================] - 407s 190us/step - loss: 1.3087 - acc: 0.3660 - val_loss: 1.3026 - val_acc: 0.3705\n",
      "\n",
      "Epoch 00007: val_loss improved from 1.30599 to 1.30262, saving model to ./same_/danq_hybrid.h5\n",
      "Epoch 8/160\n",
      "2144864/2144864 [==============================] - 406s 189us/step - loss: 1.3054 - acc: 0.3695 - val_loss: 1.2983 - val_acc: 0.3741\n",
      "\n",
      "Epoch 00008: val_loss improved from 1.30262 to 1.29831, saving model to ./same_/danq_hybrid.h5\n",
      "Epoch 9/160\n",
      "2144864/2144864 [==============================] - 407s 190us/step - loss: 1.3025 - acc: 0.3726 - val_loss: 1.2957 - val_acc: 0.3774\n",
      "\n",
      "Epoch 00009: val_loss improved from 1.29831 to 1.29569, saving model to ./same_/danq_hybrid.h5\n",
      "Epoch 10/160\n",
      "2144864/2144864 [==============================] - 407s 190us/step - loss: 1.2993 - acc: 0.3756 - val_loss: 1.2955 - val_acc: 0.3756\n",
      "\n",
      "Epoch 00010: val_loss improved from 1.29569 to 1.29552, saving model to ./same_/danq_hybrid.h5\n",
      "Epoch 11/160\n",
      "2144864/2144864 [==============================] - 406s 189us/step - loss: 1.2965 - acc: 0.3788 - val_loss: 1.2902 - val_acc: 0.3818\n",
      "\n",
      "Epoch 00011: val_loss improved from 1.29552 to 1.29020, saving model to ./same_/danq_hybrid.h5\n",
      "Epoch 12/160\n",
      "2144864/2144864 [==============================] - 406s 189us/step - loss: 1.2939 - acc: 0.3811 - val_loss: 1.2884 - val_acc: 0.3850\n",
      "\n",
      "Epoch 00012: val_loss improved from 1.29020 to 1.28838, saving model to ./same_/danq_hybrid.h5\n",
      "Epoch 13/160\n",
      "2144864/2144864 [==============================] - 407s 190us/step - loss: 1.2915 - acc: 0.3835 - val_loss: 1.2853 - val_acc: 0.3866\n",
      "\n",
      "Epoch 00013: val_loss improved from 1.28838 to 1.28535, saving model to ./same_/danq_hybrid.h5\n",
      "Epoch 14/160\n",
      "2144864/2144864 [==============================] - 406s 189us/step - loss: 1.2890 - acc: 0.3859 - val_loss: 1.2844 - val_acc: 0.3892\n",
      "\n",
      "Epoch 00014: val_loss improved from 1.28535 to 1.28436, saving model to ./same_/danq_hybrid.h5\n",
      "Epoch 15/160\n",
      "2144864/2144864 [==============================] - 406s 189us/step - loss: 1.2873 - acc: 0.3877 - val_loss: 1.2839 - val_acc: 0.3879\n",
      "\n",
      "Epoch 00015: val_loss improved from 1.28436 to 1.28386, saving model to ./same_/danq_hybrid.h5\n",
      "Epoch 16/160\n",
      "2144864/2144864 [==============================] - 405s 189us/step - loss: 1.2855 - acc: 0.3895 - val_loss: 1.2802 - val_acc: 0.3927\n",
      "\n",
      "Epoch 00016: val_loss improved from 1.28386 to 1.28016, saving model to ./same_/danq_hybrid.h5\n",
      "Epoch 17/160\n",
      "2144864/2144864 [==============================] - 407s 190us/step - loss: 1.2839 - acc: 0.3907 - val_loss: 1.2785 - val_acc: 0.3945\n",
      "\n",
      "Epoch 00017: val_loss improved from 1.28016 to 1.27853, saving model to ./same_/danq_hybrid.h5\n",
      "Epoch 18/160\n",
      "2144864/2144864 [==============================] - 406s 189us/step - loss: 1.2824 - acc: 0.3925 - val_loss: 1.2765 - val_acc: 0.3950\n",
      "\n",
      "Epoch 00018: val_loss improved from 1.27853 to 1.27653, saving model to ./same_/danq_hybrid.h5\n",
      "Epoch 19/160\n",
      "2144864/2144864 [==============================] - 407s 190us/step - loss: 1.2807 - acc: 0.3940 - val_loss: 1.2784 - val_acc: 0.3941\n",
      "\n",
      "Epoch 00019: val_loss did not improve from 1.27653\n",
      "Epoch 20/160\n",
      "2144864/2144864 [==============================] - 408s 190us/step - loss: 1.2795 - acc: 0.3955 - val_loss: 1.2762 - val_acc: 0.3964\n",
      "\n",
      "Epoch 00020: val_loss improved from 1.27653 to 1.27618, saving model to ./same_/danq_hybrid.h5\n",
      "Epoch 21/160\n",
      "2144864/2144864 [==============================] - 407s 190us/step - loss: 1.2781 - acc: 0.3965 - val_loss: 1.2725 - val_acc: 0.3990\n",
      "\n",
      "Epoch 00021: val_loss improved from 1.27618 to 1.27245, saving model to ./same_/danq_hybrid.h5\n",
      "Epoch 22/160\n",
      "2144864/2144864 [==============================] - 397s 185us/step - loss: 1.2770 - acc: 0.3977 - val_loss: 1.2721 - val_acc: 0.4005\n",
      "\n",
      "Epoch 00022: val_loss improved from 1.27245 to 1.27213, saving model to ./same_/danq_hybrid.h5\n",
      "Epoch 23/160\n",
      "2144864/2144864 [==============================] - 381s 178us/step - loss: 1.2759 - acc: 0.3989 - val_loss: 1.2733 - val_acc: 0.3991\n",
      "\n",
      "Epoch 00023: val_loss did not improve from 1.27213\n",
      "Epoch 24/160\n",
      "2144864/2144864 [==============================] - 394s 183us/step - loss: 1.2751 - acc: 0.3996 - val_loss: 1.2736 - val_acc: 0.3996\n",
      "\n",
      "Epoch 00024: val_loss did not improve from 1.27213\n",
      "Epoch 25/160\n",
      "2144864/2144864 [==============================] - 374s 175us/step - loss: 1.2742 - acc: 0.4003 - val_loss: 1.2737 - val_acc: 0.3986\n",
      "\n",
      "Epoch 00025: val_loss did not improve from 1.27213\n",
      "\n",
      "Epoch 00025: ReduceLROnPlateau reducing learning rate to 0.00010000000474974513.\n",
      "Epoch 26/160\n",
      "2144864/2144864 [==============================] - 388s 181us/step - loss: 1.2640 - acc: 0.4096 - val_loss: 1.2636 - val_acc: 0.4078\n",
      "\n",
      "Epoch 00026: val_loss improved from 1.27213 to 1.26361, saving model to ./same_/danq_hybrid.h5\n",
      "Epoch 27/160\n",
      "2144864/2144864 [==============================] - 382s 178us/step - loss: 1.2615 - acc: 0.4114 - val_loss: 1.2624 - val_acc: 0.4088\n",
      "\n",
      "Epoch 00027: val_loss improved from 1.26361 to 1.26237, saving model to ./same_/danq_hybrid.h5\n",
      "Epoch 28/160\n",
      "2144864/2144864 [==============================] - 377s 176us/step - loss: 1.2603 - acc: 0.4122 - val_loss: 1.2616 - val_acc: 0.4095\n",
      "\n",
      "Epoch 00028: val_loss improved from 1.26237 to 1.26165, saving model to ./same_/danq_hybrid.h5\n",
      "Epoch 29/160\n",
      "2144864/2144864 [==============================] - 372s 173us/step - loss: 1.2596 - acc: 0.4131 - val_loss: 1.2610 - val_acc: 0.4104\n",
      "\n",
      "Epoch 00029: val_loss improved from 1.26165 to 1.26099, saving model to ./same_/danq_hybrid.h5\n",
      "Epoch 30/160\n",
      "2144864/2144864 [==============================] - 369s 172us/step - loss: 1.2589 - acc: 0.4139 - val_loss: 1.2604 - val_acc: 0.4107\n",
      "\n",
      "Epoch 00030: val_loss improved from 1.26099 to 1.26040, saving model to ./same_/danq_hybrid.h5\n",
      "Epoch 31/160\n",
      "2144864/2144864 [==============================] - 368s 171us/step - loss: 1.2584 - acc: 0.4139 - val_loss: 1.2599 - val_acc: 0.4109\n",
      "\n",
      "Epoch 00031: val_loss improved from 1.26040 to 1.25993, saving model to ./same_/danq_hybrid.h5\n",
      "Epoch 32/160\n",
      "2144864/2144864 [==============================] - 368s 172us/step - loss: 1.2576 - acc: 0.4146 - val_loss: 1.2597 - val_acc: 0.4111\n",
      "\n",
      "Epoch 00032: val_loss improved from 1.25993 to 1.25974, saving model to ./same_/danq_hybrid.h5\n",
      "Epoch 33/160\n",
      "2144864/2144864 [==============================] - 369s 172us/step - loss: 1.2570 - acc: 0.4153 - val_loss: 1.2591 - val_acc: 0.4118\n",
      "\n",
      "Epoch 00033: val_loss improved from 1.25974 to 1.25912, saving model to ./same_/danq_hybrid.h5\n",
      "Epoch 34/160\n"
     ]
    },
    {
     "name": "stdout",
     "output_type": "stream",
     "text": [
      "2144864/2144864 [==============================] - 367s 171us/step - loss: 1.2566 - acc: 0.4155 - val_loss: 1.2585 - val_acc: 0.4123\n",
      "\n",
      "Epoch 00034: val_loss improved from 1.25912 to 1.25847, saving model to ./same_/danq_hybrid.h5\n",
      "Epoch 35/160\n",
      "2144864/2144864 [==============================] - 369s 172us/step - loss: 1.2567 - acc: 0.4157 - val_loss: 1.2584 - val_acc: 0.4126\n",
      "\n",
      "Epoch 00035: val_loss improved from 1.25847 to 1.25842, saving model to ./same_/danq_hybrid.h5\n",
      "Epoch 36/160\n",
      "2144864/2144864 [==============================] - 367s 171us/step - loss: 1.2561 - acc: 0.4162 - val_loss: 1.2581 - val_acc: 0.4130\n",
      "\n",
      "Epoch 00036: val_loss improved from 1.25842 to 1.25809, saving model to ./same_/danq_hybrid.h5\n",
      "Epoch 37/160\n",
      "2144864/2144864 [==============================] - 366s 171us/step - loss: 1.2556 - acc: 0.4165 - val_loss: 1.2580 - val_acc: 0.4129\n",
      "\n",
      "Epoch 00037: val_loss improved from 1.25809 to 1.25803, saving model to ./same_/danq_hybrid.h5\n",
      "Epoch 38/160\n",
      "2144864/2144864 [==============================] - 366s 171us/step - loss: 1.2555 - acc: 0.4167 - val_loss: 1.2573 - val_acc: 0.4130\n",
      "\n",
      "Epoch 00038: val_loss improved from 1.25803 to 1.25735, saving model to ./same_/danq_hybrid.h5\n",
      "Epoch 39/160\n",
      "2144864/2144864 [==============================] - 373s 174us/step - loss: 1.2549 - acc: 0.4171 - val_loss: 1.2570 - val_acc: 0.4134\n",
      "\n",
      "Epoch 00039: val_loss improved from 1.25735 to 1.25703, saving model to ./same_/danq_hybrid.h5\n",
      "Epoch 40/160\n",
      "2144864/2144864 [==============================] - 367s 171us/step - loss: 1.2551 - acc: 0.4167 - val_loss: 1.2567 - val_acc: 0.4136\n",
      "\n",
      "Epoch 00040: val_loss improved from 1.25703 to 1.25671, saving model to ./same_/danq_hybrid.h5\n",
      "Epoch 41/160\n",
      "2144864/2144864 [==============================] - 366s 171us/step - loss: 1.2546 - acc: 0.4172 - val_loss: 1.2567 - val_acc: 0.4140\n",
      "\n",
      "Epoch 00041: val_loss improved from 1.25671 to 1.25668, saving model to ./same_/danq_hybrid.h5\n",
      "Epoch 42/160\n",
      "2144864/2144864 [==============================] - 366s 170us/step - loss: 1.2543 - acc: 0.4176 - val_loss: 1.2564 - val_acc: 0.4143\n",
      "\n",
      "Epoch 00042: val_loss improved from 1.25668 to 1.25636, saving model to ./same_/danq_hybrid.h5\n",
      "Epoch 43/160\n",
      "2144864/2144864 [==============================] - 372s 174us/step - loss: 1.2541 - acc: 0.4179 - val_loss: 1.2562 - val_acc: 0.4144\n",
      "\n",
      "Epoch 00043: val_loss improved from 1.25636 to 1.25620, saving model to ./same_/danq_hybrid.h5\n",
      "Epoch 44/160\n",
      "2144864/2144864 [==============================] - 375s 175us/step - loss: 1.2536 - acc: 0.4183 - val_loss: 1.2558 - val_acc: 0.4142\n",
      "\n",
      "Epoch 00044: val_loss improved from 1.25620 to 1.25576, saving model to ./same_/danq_hybrid.h5\n",
      "Epoch 45/160\n",
      "2144864/2144864 [==============================] - 374s 174us/step - loss: 1.2535 - acc: 0.4182 - val_loss: 1.2559 - val_acc: 0.4141\n",
      "\n",
      "Epoch 00045: val_loss did not improve from 1.25576\n",
      "Epoch 46/160\n",
      "2144864/2144864 [==============================] - 373s 174us/step - loss: 1.2535 - acc: 0.4184 - val_loss: 1.2560 - val_acc: 0.4140\n",
      "\n",
      "Epoch 00046: val_loss did not improve from 1.25576\n",
      "Epoch 47/160\n",
      "2144864/2144864 [==============================] - 374s 174us/step - loss: 1.2532 - acc: 0.4185 - val_loss: 1.2552 - val_acc: 0.4149\n",
      "\n",
      "Epoch 00047: val_loss improved from 1.25576 to 1.25523, saving model to ./same_/danq_hybrid.h5\n",
      "Epoch 48/160\n",
      "2144864/2144864 [==============================] - 374s 175us/step - loss: 1.2528 - acc: 0.4187 - val_loss: 1.2552 - val_acc: 0.4147\n",
      "\n",
      "Epoch 00048: val_loss improved from 1.25523 to 1.25519, saving model to ./same_/danq_hybrid.h5\n",
      "Epoch 49/160\n",
      "2144864/2144864 [==============================] - 374s 174us/step - loss: 1.2525 - acc: 0.4197 - val_loss: 1.2549 - val_acc: 0.4150\n",
      "\n",
      "Epoch 00049: val_loss improved from 1.25519 to 1.25493, saving model to ./same_/danq_hybrid.h5\n",
      "Epoch 50/160\n",
      "2144864/2144864 [==============================] - 362s 169us/step - loss: 1.2525 - acc: 0.4193 - val_loss: 1.2550 - val_acc: 0.4156\n",
      "\n",
      "Epoch 00050: val_loss did not improve from 1.25493\n",
      "Epoch 51/160\n",
      "2144864/2144864 [==============================] - 367s 171us/step - loss: 1.2525 - acc: 0.4188 - val_loss: 1.2545 - val_acc: 0.4157\n",
      "\n",
      "Epoch 00051: val_loss improved from 1.25493 to 1.25454, saving model to ./same_/danq_hybrid.h5\n",
      "Epoch 52/160\n",
      "2144864/2144864 [==============================] - 388s 181us/step - loss: 1.2521 - acc: 0.4193 - val_loss: 1.2545 - val_acc: 0.4158\n",
      "\n",
      "Epoch 00052: val_loss improved from 1.25454 to 1.25448, saving model to ./same_/danq_hybrid.h5\n",
      "Epoch 53/160\n",
      "2144864/2144864 [==============================] - 370s 173us/step - loss: 1.2517 - acc: 0.4202 - val_loss: 1.2542 - val_acc: 0.4159\n",
      "\n",
      "Epoch 00053: val_loss improved from 1.25448 to 1.25417, saving model to ./same_/danq_hybrid.h5\n",
      "Epoch 54/160\n",
      "2144864/2144864 [==============================] - 367s 171us/step - loss: 1.2517 - acc: 0.4202 - val_loss: 1.2541 - val_acc: 0.4159\n",
      "\n",
      "Epoch 00054: val_loss improved from 1.25417 to 1.25407, saving model to ./same_/danq_hybrid.h5\n",
      "Epoch 55/160\n",
      " 541800/2144864 [======>.......................] - ETA: 4:16 - loss: 1.2512 - acc: 0.4204"
     ]
    }
   ],
   "source": [
    "path = './same_/danq_hybrid.h5'\n",
    "\n",
    "callbacks = [EarlyStopping(patience=10, monitor='val_loss'),\n",
    "                 ModelCheckpoint(path, monitor='val_loss', verbose=1, save_best_only=True),\n",
    "                 ReduceLROnPlateau(monitor='val_loss', factor=0.1, patience=3, verbose=1)]\n",
    "\n",
    "BATCH_SIZE=200\n",
    "n_epoch=160\n",
    "\n",
    "history = model.fit(X_train, y_train, batch_size=BATCH_SIZE, epochs=n_epoch, shuffle=True,\n",
    "                     validation_split=0.2, verbose=1, callbacks=callbacks).history"
   ]
  },
  {
   "cell_type": "code",
   "execution_count": null,
   "metadata": {},
   "outputs": [],
   "source": [
    "plot_metrics(history)"
   ]
  },
  {
   "cell_type": "markdown",
   "metadata": {},
   "source": [
    "# OOB validation"
   ]
  },
  {
   "cell_type": "code",
   "execution_count": 52,
   "metadata": {},
   "outputs": [],
   "source": [
    "model = load_model(path)"
   ]
  },
  {
   "cell_type": "code",
   "execution_count": 15,
   "metadata": {},
   "outputs": [],
   "source": [
    "y_pred = model.predict(X_test)\n",
    "y_pred = y_pred.argmax(axis=-1)\n",
    "\n",
    "y_true = y_test.argmax(axis=-1)"
   ]
  },
  {
   "cell_type": "code",
   "execution_count": 16,
   "metadata": {},
   "outputs": [
    {
     "data": {
      "image/png": "[encoded data removed]",
      "text/plain": [
       "<Figure size 432x288 with 2 Axes>"
      ]
     },
     "metadata": {
      "needs_background": "light"
     },
     "output_type": "display_data"
    }
   ],
   "source": [
    "confusion_matrix_heatmap(y_true, y_pred)"
   ]
  },
  {
   "cell_type": "code",
   "execution_count": 17,
   "metadata": {},
   "outputs": [
    {
     "name": "stdout",
     "output_type": "stream",
     "text": [
      "              precision    recall  f1-score   support\n",
      "\n",
      "           0       0.41      0.43      0.42    167434\n",
      "           1       0.43      0.40      0.42    167833\n",
      "           2       0.43      0.38      0.40    167272\n",
      "           3       0.42      0.47      0.44    167732\n",
      "\n",
      "    accuracy                           0.42    670271\n",
      "   macro avg       0.42      0.42      0.42    670271\n",
      "weighted avg       0.42      0.42      0.42    670271\n",
      "\n"
     ]
    }
   ],
   "source": [
    "print(classification_report(y_true, y_pred))"
   ]
  },
  {
   "cell_type": "code",
   "execution_count": null,
   "metadata": {},
   "outputs": [],
   "source": []
  }
 ],
 "metadata": {
  "kernelspec": {
   "display_name": "Python 3",
   "language": "python",
   "name": "python3"
  },
  "language_info": {
   "codemirror_mode": {
    "name": "ipython",
    "version": 3
   },
   "file_extension": ".py",
   "mimetype": "text/x-python",
   "name": "python",
   "nbconvert_exporter": "python",
   "pygments_lexer": "ipython3",
   "version": "3.6.9"
  },
  "toc": {
   "base_numbering": 1,
   "nav_menu": {},
   "number_sections": true,
   "sideBar": true,
   "skip_h1_title": false,
   "title_cell": "Table of Contents",
   "title_sidebar": "Contents",
   "toc_cell": false,
   "toc_position": {},
   "toc_section_display": true,
   "toc_window_display": true
  },
  "varInspector": {
   "cols": {
    "lenName": 16,
    "lenType": 16,
    "lenVar": 40
   },
   "kernels_config": {
    "python": {
     "delete_cmd_postfix": "",
     "delete_cmd_prefix": "del ",
     "library": "var_list.py",
     "varRefreshCmd": "print(var_dic_list())"
    },
    "r": {
     "delete_cmd_postfix": ") ",
     "delete_cmd_prefix": "rm(",
     "library": "var_list.r",
     "varRefreshCmd": "cat(var_dic_list()) "
    }
   },
   "types_to_exclude": [
    "module",
    "function",
    "builtin_function_or_method",
    "instance",
    "_Feature"
   ],
   "window_display": false
  }
 },
 "nbformat": 4,
 "nbformat_minor": 2
}
